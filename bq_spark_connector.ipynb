{
 "cells": [
  {
   "cell_type": "code",
   "execution_count": 14,
   "id": "066c7e31-94ae-4a16-bc34-bdb032aa761e",
   "metadata": {},
   "outputs": [],
   "source": [
    "import os\n",
    "os.environ[\"GOOGLE_APPLICATION_CREDENTIALS\"] = \"$HOME/.secrets/trauco-vertex-ai-credits-7c0f37d3f33d.json\""
   ]
  },
  {
   "cell_type": "code",
   "execution_count": 15,
   "id": "ecd0b399-5d32-41da-88a2-78ca8983e7a4",
   "metadata": {},
   "outputs": [
    {
     "name": "stdout",
     "output_type": "stream",
     "text": [
      "bq_spark_connector.ipynb  lib  README.md  scala-2.13.8\tscripts  spark_bq.ipynb\n"
     ]
    }
   ],
   "source": [
    "! ls"
   ]
  },
  {
   "cell_type": "code",
   "execution_count": 16,
   "id": "c2f19d85-41c9-4843-be3b-06c4e2294cf6",
   "metadata": {},
   "outputs": [],
   "source": [
    "from pyspark.sql import SparkSession\n",
    "\n",
    "# Set BigQuery resources variables\n",
    "project_id = \"trauco-vertex-ai-credits\"  # Replace with your GCP project ID\n",
    "dataset_name = \"yasss\"  # Replace with your BigQuery dataset name\n",
    "table_name = \"Test_table\"  # Replace with your BigQuery table name\n",
    "\n",
    "# Create a SparkSession\n",
    "spark = SparkSession.builder \\\n",
    "    .appName(\"BigQuery-Spark Connector Example\") \\\n",
    "    .config(\"spark.jars.packages\", \"com.google.cloud.spark:spark-bigquery-with-dependencies_2.12:0.23.1\") \\\n",
    "    .getOrCreate()"
   ]
  },
  {
   "cell_type": "code",
   "execution_count": 17,
   "id": "6f053767-a97d-430e-a324-6c54e5f343eb",
   "metadata": {},
   "outputs": [
    {
     "name": "stdout",
     "output_type": "stream",
     "text": [
      "Requirement already satisfied: google-auth in /home/trauco/miniconda3/envs/spark-env/lib/python3.12/site-packages (2.29.0)\n",
      "Requirement already satisfied: cachetools<6.0,>=2.0.0 in /home/trauco/miniconda3/envs/spark-env/lib/python3.12/site-packages (from google-auth) (5.3.3)\n",
      "Requirement already satisfied: pyasn1-modules>=0.2.1 in /home/trauco/miniconda3/envs/spark-env/lib/python3.12/site-packages (from google-auth) (0.4.0)\n",
      "Requirement already satisfied: rsa<5,>=3.1.4 in /home/trauco/miniconda3/envs/spark-env/lib/python3.12/site-packages (from google-auth) (4.9)\n",
      "Requirement already satisfied: pyasn1<0.7.0,>=0.4.6 in /home/trauco/miniconda3/envs/spark-env/lib/python3.12/site-packages (from pyasn1-modules>=0.2.1->google-auth) (0.6.0)\n"
     ]
    }
   ],
   "source": [
    "!pip3 install google-auth\n"
   ]
  },
  {
   "cell_type": "code",
   "execution_count": 18,
   "id": "b6b77d2d-5d16-46c5-9d0a-9e1176dcbec7",
   "metadata": {},
   "outputs": [
    {
     "name": "stdout",
     "output_type": "stream",
     "text": [
      "root\n",
      " |-- word: string (nullable = false)\n",
      " |-- word_count: long (nullable = false)\n",
      " |-- corpus: string (nullable = false)\n",
      " |-- corpus_date: long (nullable = false)\n",
      "\n",
      "+---------+----------+-------+-----------+\n",
      "|     word|word_count| corpus|corpus_date|\n",
      "+---------+----------+-------+-----------+\n",
      "|     LVII|         1|sonnets|          0|\n",
      "|   augurs|         1|sonnets|          0|\n",
      "|   dimm'd|         1|sonnets|          0|\n",
      "|  plagues|         1|sonnets|          0|\n",
      "|  treason|         1|sonnets|          0|\n",
      "|  surmise|         1|sonnets|          0|\n",
      "|     heed|         1|sonnets|          0|\n",
      "|Unthrifty|         1|sonnets|          0|\n",
      "|  quality|         1|sonnets|          0|\n",
      "| wherever|         1|sonnets|          0|\n",
      "|        C|         1|sonnets|          0|\n",
      "|        L|         1|sonnets|          0|\n",
      "|imaginary|         1|sonnets|          0|\n",
      "|        H|         1|sonnets|          0|\n",
      "|   relief|         1|sonnets|          0|\n",
      "|        W|         1|sonnets|          0|\n",
      "|        V|         1|sonnets|          0|\n",
      "|  advised|         1|sonnets|          0|\n",
      "|     grey|         1|sonnets|          0|\n",
      "|        X|         1|sonnets|          0|\n",
      "+---------+----------+-------+-----------+\n",
      "only showing top 20 rows\n",
      "\n"
     ]
    }
   ],
   "source": [
    "df = spark.read \\\n",
    "  .format(\"bigquery\") \\\n",
    "  .load(\"bigquery-public-data.samples.shakespeare\")\n",
    "\n",
    "# Show DataFrame schema\n",
    "df.printSchema()\n",
    "\n",
    "# Show DataFrame content\n",
    "df.show()\n",
    "\n",
    "# Perform Spark operations\n",
    "# ...\n",
    "\n",
    "# Stop SparkSession\n",
    "spark.stop()"
   ]
  },
  {
   "cell_type": "code",
   "execution_count": null,
   "id": "81ccadee-f2b3-4e24-96ac-870f3efc79cb",
   "metadata": {},
   "outputs": [],
   "source": []
  },
  {
   "cell_type": "code",
   "execution_count": null,
   "id": "0a4b839e-bb50-43bd-a638-e1bd27e687e3",
   "metadata": {},
   "outputs": [],
   "source": []
  }
 ],
 "metadata": {
  "kernelspec": {
   "display_name": "Python 3 (ipykernel)",
   "language": "python",
   "name": "python3"
  },
  "language_info": {
   "codemirror_mode": {
    "name": "ipython",
    "version": 3
   },
   "file_extension": ".py",
   "mimetype": "text/x-python",
   "name": "python",
   "nbconvert_exporter": "python",
   "pygments_lexer": "ipython3",
   "version": "3.12.3"
  }
 },
 "nbformat": 4,
 "nbformat_minor": 5
}
